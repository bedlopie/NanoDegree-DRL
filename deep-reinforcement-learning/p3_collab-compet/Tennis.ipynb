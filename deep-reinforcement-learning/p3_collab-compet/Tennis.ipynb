{
 "cells": [
  {
   "cell_type": "markdown",
   "metadata": {},
   "source": [
    "# Collaboration and Competition\n",
    "\n",
    "---\n",
    "\n",
    "In this notebook, you will learn how to use the Unity ML-Agents environment for the third project of the [Deep Reinforcement Learning Nanodegree](https://www.udacity.com/course/deep-reinforcement-learning-nanodegree--nd893) program.\n",
    "\n",
    "### 1. Start the Environment\n",
    "\n",
    "We begin by importing the necessary packages.  If the code cell below returns an error, please revisit the project instructions to double-check that you have installed [Unity ML-Agents](https://github.com/Unity-Technologies/ml-agents/blob/master/docs/Installation.md) and [NumPy](http://www.numpy.org/)."
   ]
  },
  {
   "cell_type": "code",
   "execution_count": 1,
   "metadata": {},
   "outputs": [],
   "source": [
    "from unityagents import UnityEnvironment\n",
    "import numpy as np"
   ]
  },
  {
   "cell_type": "markdown",
   "metadata": {},
   "source": [
    "Next, we will start the environment!  **_Before running the code cell below_**, change the `file_name` parameter to match the location of the Unity environment that you downloaded.\n",
    "\n",
    "- **Mac**: `\"path/to/Tennis.app\"`\n",
    "- **Windows** (x86): `\"path/to/Tennis_Windows_x86/Tennis.exe\"`\n",
    "- **Windows** (x86_64): `\"path/to/Tennis_Windows_x86_64/Tennis.exe\"`\n",
    "- **Linux** (x86): `\"path/to/Tennis_Linux/Tennis.x86\"`\n",
    "- **Linux** (x86_64): `\"path/to/Tennis_Linux/Tennis.x86_64\"`\n",
    "- **Linux** (x86, headless): `\"path/to/Tennis_Linux_NoVis/Tennis.x86\"`\n",
    "- **Linux** (x86_64, headless): `\"path/to/Tennis_Linux_NoVis/Tennis.x86_64\"`\n",
    "\n",
    "For instance, if you are using a Mac, then you downloaded `Tennis.app`.  If this file is in the same folder as the notebook, then the line below should appear as follows:\n",
    "```\n",
    "env = UnityEnvironment(file_name=\"Tennis.app\")\n",
    "```"
   ]
  },
  {
   "cell_type": "code",
   "execution_count": 2,
   "metadata": {},
   "outputs": [],
   "source": [
    "env = UnityEnvironment(file_name=\"../UnityEnvironment/Tennis_Windows_x86_64/Tennis.exe\")\n",
    "\n",
    "demo = True"
   ]
  },
  {
   "cell_type": "markdown",
   "metadata": {},
   "source": [
    "Environments contain **_brains_** which are responsible for deciding the actions of their associated agents. Here we check for the first brain available, and set it as the default brain we will be controlling from Python."
   ]
  },
  {
   "cell_type": "code",
   "execution_count": 3,
   "metadata": {},
   "outputs": [],
   "source": [
    "# get the default brain\n",
    "brain_name = env.brain_names[0]\n",
    "brain = env.brains[brain_name]"
   ]
  },
  {
   "cell_type": "markdown",
   "metadata": {},
   "source": [
    "### 2. Examine the State and Action Spaces\n",
    "\n",
    "In this environment, two agents control rackets to bounce a ball over a net. If an agent hits the ball over the net, it receives a reward of +0.1.  If an agent lets a ball hit the ground or hits the ball out of bounds, it receives a reward of -0.01.  Thus, the goal of each agent is to keep the ball in play.\n",
    "\n",
    "The observation space consists of 8 variables corresponding to the position and velocity of the ball and racket. Two continuous actions are available, corresponding to movement toward (or away from) the net, and jumping. \n",
    "\n",
    "Run the code cell below to print some information about the environment."
   ]
  },
  {
   "cell_type": "code",
   "execution_count": 4,
   "metadata": {},
   "outputs": [
    {
     "output_type": "stream",
     "name": "stdout",
     "text": [
      "Number of agents: 2\nSize of each action: 2\nThere are 2 agents. Each observes a state with length: 24\nShape of the states data structure is : (2, 24)\nShape of the rewards data structure is : [0.0, 0.0]\nShape of the local_done data structure is : [False, False]\nThe state for the first agent looks like:\n [ 0.          0.          0.          0.          0.          0.\n  0.          0.          0.          0.          0.          0.\n  0.          0.          0.          0.         -6.65278625 -1.5\n -0.          0.          6.83172083  6.         -0.          0.        ]\nThe state for the second agent looks like:\n [ 0.          0.          0.          0.          0.          0.\n  0.          0.          0.          0.          0.          0.\n  0.          0.          0.          0.         -6.4669857  -1.5\n  0.          0.         -6.83172083  6.          0.          0.        ]\n[[0 0]\n [0 0]]\nThe state for the first agent looks like:\n [ 0.          0.          0.          0.          0.          0.\n  0.          0.         -6.65278625 -1.5        -0.          0.\n  6.83172083  6.         -0.          0.         -6.65278625 -1.55886006\n -0.         -0.98100001  6.83172083  5.94114017 -0.         -0.98100001]\nThe state for the second agent looks like:\n [ 0.          0.          0.          0.          0.          0.\n  0.          0.         -6.4669857  -1.5         0.          0.\n -6.83172083  6.          0.          0.         -6.4669857  -1.55886006\n  0.         -0.98100001 -6.83172083  5.94114017  0.         -0.98100001]\n"
     ]
    }
   ],
   "source": [
    "# reset the environment\n",
    "env_info = env.reset(train_mode=True)[brain_name]\n",
    "\n",
    "# number of agents \n",
    "num_agents = len(env_info.agents)\n",
    "print('Number of agents:', num_agents)\n",
    "\n",
    "# size of each action\n",
    "action_size = brain.vector_action_space_size\n",
    "print('Size of each action:', action_size)\n",
    "\n",
    "# examine the state space \n",
    "states = env_info.vector_observations\n",
    "state_size = states.shape[1]\n",
    "print('There are {} agents. Each observes a state with length: {}'.format(states.shape[0], state_size))\n",
    "print('Shape of the states data structure is : {}'.format(env_info.vector_observations.shape))\n",
    "print('Shape of the rewards data structure is : {}'.format(env_info.rewards))\n",
    "print('Shape of the local_done data structure is : {}'.format(env_info.local_done))\n",
    "\n",
    "print('The state for the first agent looks like:\\n', states[0])\n",
    "print('The state for the second agent looks like:\\n', states[1])\n",
    "actions = np.random.randn(num_agents, action_size) # select an action (for each agent)\n",
    "actions = np.clip(np.array([[0,0], [0,0]]), -1, 1)   \n",
    "print(actions)\n",
    "env_info = env.step(actions)[brain_name]\n",
    "states = env_info.vector_observations\n",
    "print('The state for the first agent looks like:\\n', states[0])\n",
    "print('The state for the second agent looks like:\\n', states[1])"
   ]
  },
  {
   "cell_type": "markdown",
   "metadata": {},
   "source": [
    "### 3. Take Random Actions in the Environment\n",
    "\n",
    "In the next code cell, you will learn how to use the Python API to control the agents and receive feedback from the environment.\n",
    "\n",
    "Once this cell is executed, you will watch the agents' performance, if they select actions at random with each time step.  A window should pop up that allows you to observe the agents.\n",
    "\n",
    "Of course, as part of the project, you'll have to change the code so that the agents are able to use their experiences to gradually choose better actions when interacting with the environment!"
   ]
  },
  {
   "cell_type": "code",
   "execution_count": 5,
   "metadata": {},
   "outputs": [],
   "source": [
    "for i in range(1, 0):                                      # play game for 5 episodes\n",
    "    env_info = env.reset(train_mode=True)[brain_name]     # reset the environment    \n",
    "    states = env_info.vector_observations                  # get the current state (for each agent)\n",
    "    scores = np.zeros(num_agents)                          # initialize the score (for each agent)\n",
    "    while True:\n",
    "        actions = np.random.randn(num_agents, action_size) # select an action (for each agent)\n",
    "        actions = np.clip(actions, -1, 1)                  # all actions between -1 and 1\n",
    "        env_info = env.step(actions)[brain_name]           # send all actions to tne environment\n",
    "        next_states = env_info.vector_observations         # get next state (for each agent)\n",
    "        rewards = env_info.rewards                         # get reward (for each agent)\n",
    "        dones = env_info.local_done                        # see if episode finished\n",
    "        scores += env_info.rewards                         # update the score (for each agent)\n",
    "        states = next_states                               # roll over states to next time step\n",
    "        if np.any(dones):                                  # exit loop if episode finished\n",
    "            break\n",
    "    print('Score (max over agents) from episode {}: {}'.format(i, np.max(scores)))"
   ]
  },
  {
   "cell_type": "markdown",
   "metadata": {},
   "source": [
    "### 4. It's Your Turn!\n",
    "\n",
    "Now it's your turn to train your own agent to solve the environment!  When training the environment, set `train_mode=True`, so that the line for resetting the environment looks like the following:\n",
    "```python\n",
    "env_info = env.reset(train_mode=True)[brain_name]\n",
    "```"
   ]
  },
  {
   "cell_type": "code",
   "execution_count": 6,
   "metadata": {},
   "outputs": [],
   "source": [
    "import time\n",
    "import torch\n",
    "import numpy as np\n",
    "from collections import deque\n",
    "import matplotlib.pyplot as plt\n",
    "%matplotlib inline"
   ]
  },
  {
   "cell_type": "code",
   "execution_count": 7,
   "metadata": {},
   "outputs": [
    {
     "output_type": "stream",
     "name": "stdout",
     "text": [
      "Running on GPU\n"
     ]
    }
   ],
   "source": [
    "from maddpg_agent import MADDPG_Agency\n",
    "from ddpg_agent import DDPG_Agent\n",
    "\n",
    "hyperparameters = {\n",
    "          'algo' :  {   'algo':                                 'notdouble_ddpg',\n",
    "                        'n_episodes':                           10000, \n",
    "                        'max_t':                                1000,\n",
    "                        'num_agent':                            2,\n",
    "                        'add_noise':                            True\n",
    "                    },\n",
    "  'agent_maddpg' :  {   'state_size':                           24, \n",
    "                        'action_size':                          2, \n",
    "                        'nb_agent':                             2,\n",
    "                        'random_seed':                          2710,\n",
    "                        'GPU':                                  True,\n",
    "                        'LEARN_EVERY':                          100,             # How many steps between learning\n",
    "                        'LEARN_REPEAT':                         20,             # Number of time we sample the buffer\n",
    "                        'BUFFER_SIZE':                          int(1e6),        # replay buffer size\n",
    "                        'BATCH_SIZE':                           2048,             # minibatch size\n",
    "                        'GAMMA':                                0.99,            # discount factor\n",
    "                        'TAU':                                  1e-3,            # for soft update of target parameters\n",
    "                        'Actor_network':                        [400, 300],      # Hidden layer in the fully connected Actor network\n",
    "                        'LR_ACTOR':                             1e-3,            # learning rate of the actor \n",
    "                        'Critic_network':                       [400, 300],      # Hidden layer in the fully connected Critic network\n",
    "                        'LR_CRITIC':                            1e-3,            # learning rate of the critic\n",
    "                        'WEIGHT_DECAY':                         0,                # L2 weight decay\n",
    "                        'clip_gradient':                        False\n",
    "                    },\n",
    "    'agent_ddpg' :  {   'state_size':                           24, \n",
    "                        'action_size':                          2, \n",
    "                        'random_seed':                          2710,\n",
    "                        'GPU':                                  True,\n",
    "                        'LEARN_EVERY':                          100,             # How many steps between learning\n",
    "                        'LEARN_REPEAT':                         1,             # Number of time we sample the buffer\n",
    "                        'BUFFER_SIZE':                          int(1e5),        # replay buffer size\n",
    "                        'BATCH_SIZE':                           512,             # minibatch size\n",
    "                        'GAMMA':                                0.99,            # discount factor\n",
    "                        'TAU':                                  1e-3,            # for soft update of target parameters\n",
    "                        'Actor_network':                        [256, 256, 32],      # Hidden layer in the fully connected Actor network\n",
    "                        'LR_ACTOR':                             1e-3,            # learning rate of the actor \n",
    "                        'Critic_network':                       [512, 256, 128],      # Hidden layer in the fully connected Critic network\n",
    "                        'LR_CRITIC':                            1e-3,            # learning rate of the critic\n",
    "                        'WEIGHT_DECAY':                         0,                # L2 weight decay\n",
    "                        'clip_gradient':                        False\n",
    "                    },\n",
    "        }\n",
    "\n",
    "if (hyperparameters['algo']['algo'] == 'double_ddpg'):\n",
    "    agent_1 = DDPG_Agent(**hyperparameters['agent_ddpg'])\n",
    "    agent_2 = DDPG_Agent(**hyperparameters['agent_ddpg'])\n",
    "else:\n",
    "    agent = MADDPG_Agency(**hyperparameters['agent_maddpg'])"
   ]
  },
  {
   "cell_type": "code",
   "execution_count": 8,
   "metadata": {},
   "outputs": [],
   "source": [
    "from tools import _debug, _assert, _info, _whatis\n"
   ]
  },
  {
   "cell_type": "code",
   "execution_count": 9,
   "metadata": {},
   "outputs": [],
   "source": [
    "def maddpg(algo=None, n_episodes=1000, max_t=1001, num_agent=num_agents, add_noise=True):\n",
    "    scores_deque = deque(maxlen=100)\n",
    "    scores = []\n",
    "    #max_score = -np.Inf\n",
    "    max_score = 0.001\n",
    "    solved = False\n",
    "\n",
    "    for i_episode in range(1, n_episodes+1):\n",
    "        \n",
    "        steps = 0   \n",
    "        start_time = time.time()\n",
    "        \n",
    "        states = env.reset(train_mode=True)[brain_name].vector_observations\n",
    "        agent.reset()\n",
    "        score = np.zeros(num_agent)\n",
    "        for t in range(max_t):\n",
    "\n",
    "            #print(\"in\")\n",
    "            actions = agent.act(states, add_noise)             # return actions for each agent according to their states\n",
    "            #print(\"out\")\n",
    "\n",
    "            #_info(actions)\n",
    "\n",
    "            env_info = env.step(actions)[brain_name]           # send all actions to tne environment\n",
    "            next_states = env_info.vector_observations         # get next state (for each agent)\n",
    "            rewards = env_info.rewards                         # get reward (for each agent)\n",
    "            dones = env_info.local_done                        # see if episode finished\n",
    "\n",
    "            agent.step(states, actions, rewards, next_states, dones)\n",
    "            \n",
    "            #_info(rewards)\n",
    "\n",
    "            score += rewards                                  # update the score (for each agent)\n",
    "\n",
    "            #_debug([\"Score\", score])\n",
    "\n",
    "            states = next_states                               # roll over states to next time step\n",
    "\n",
    "            steps += 1\n",
    "\n",
    "            if np.any(dones):\n",
    "                break \n",
    "\n",
    "        episode_score = np.max(score)\n",
    "        scores_deque.append(episode_score)\n",
    "        scores.append(episode_score)\n",
    "        over100_score = np.mean(scores_deque)\n",
    "\n",
    "        if (agent.optimized):\n",
    "            for a in agent.agents:\n",
    "                a.actor_scheduler.step()\n",
    "                a.critic_scheduler.step()\n",
    "            agent.optimized = False\n",
    "\n",
    "        print('\\rEpisode {0:4} in {1:5.2f}s.\\tSteps: {6:4}\\tScore: {2:6.3f}\\tAverage Score: {3:6.3f}\\tLrA: {4:.1e}\\tSigma: {5:.1e}'.format( i_episode, \n",
    "                                                                                                       time.time()-start_time, \n",
    "                                                                                                       episode_score, \n",
    "                                                                                                       over100_score, \n",
    "                                                                                                       agent.agents[0].actor_optimizer.param_groups[0]['lr'],\n",
    "                                                                                                       agent.agents[0].noise.sigma,\n",
    "                                                                                                       steps\n",
    "                                                                                                       ), end=\"\")\n",
    "        if i_episode == 1000:\n",
    "            for a in agent.agents:\n",
    "                a.noise.sigma = 0.2\n",
    "        \n",
    "        if i_episode == 2000:\n",
    "            for a in agent.agents:\n",
    "                a.noise.sigma = 0.1\n",
    "                \n",
    "        if i_episode % 1000 == 0 :\n",
    "            agent.save(i_episode)\n",
    "\n",
    "        if  int(over100_score) > int(max_score) :\n",
    "            max_score = over100_score\n",
    "            agent.save(int(max_score))\n",
    "        \n",
    "        if over100_score > 0.5 and not solved:\n",
    "            solved = True\n",
    "            print('\\rProblem solved in {} episodes, score = {}                                              '.format(i_episode, over100_score))\n",
    "            agent.save('_solved')\n",
    "            #break\n",
    "\n",
    "        if i_episode % 200 == 0 :\n",
    "            print('\\rEpisode {0:4} in {1:5.2f}s.\\tScore: {2:6.3f}\\tAverage Score: {3:6.3f}\\tLrA: {4:.1e}\\tSigma: {5:.1e}'.format( i_episode, \n",
    "                                                                                                       time.time()-start_time, \n",
    "                                                                                                       episode_score, \n",
    "                                                                                                       over100_score, \n",
    "                                                                                                       agent.agents[0].actor_optimizer.param_groups[0]['lr'],\n",
    "                                                                                                       agent.agents[0].noise.sigma ))\n",
    "\n",
    "    agent.save('_max')\n",
    "    return scores"
   ]
  },
  {
   "cell_type": "code",
   "execution_count": 10,
   "metadata": {},
   "outputs": [],
   "source": [
    "def double_ddpg(algo=None, n_episodes=1000, max_t=1001, num_agent=num_agents, add_noise=True):\n",
    "    scores_deque = deque(maxlen=100)\n",
    "    scores = []\n",
    "    #max_score = -np.Inf\n",
    "    max_score = .5\n",
    "    solved = False\n",
    "\n",
    "    for i_episode in range(1, n_episodes+1):\n",
    "        \n",
    "        steps = 0   \n",
    "        start_time = time.time()\n",
    "        \n",
    "        states = env.reset(train_mode=True)[brain_name].vector_observations\n",
    "        agent_1.reset()\n",
    "        agent_2.reset()\n",
    "        score = np.zeros(num_agent)\n",
    "        backup_score = []\n",
    "        for t in range(max_t):\n",
    "            actions =   [\n",
    "                        agent_1.act(states[0], add_noise),             # return actions for each agent according to their states\n",
    "                        agent_2.act(states[1], add_noise)             # return actions for each agent according to their states\n",
    "                        ]\n",
    "            env_info = env.step(actions)[brain_name]           # send all actions to tne environment\n",
    "            next_states = env_info.vector_observations         # get next state (for each agent)\n",
    "            rewards = env_info.rewards                         # get reward (for each agent)\n",
    "            backup_score.append((t, rewards[0], rewards[1]))   \n",
    "            #_info(rewards, texte=\"Rewards\", block=True)\n",
    "            dones = env_info.local_done                        # see if episode finished\n",
    "\n",
    "            agent_1.step(states[0], actions[0], rewards[0], next_states[0], dones[0])\n",
    "            agent_2.step(states[1], actions[1], rewards[1], next_states[1], dones[1])\n",
    "            score += rewards                                  # update the score (for each agent)\n",
    "            states = next_states                               # roll over states to next time step\n",
    "            steps += 1\n",
    "            if np.any(dones):\n",
    "                break \n",
    "\n",
    "        #_info(backup_score, texte=\"Tableau\", block=True)\n",
    "        episode_score = np.max(score)\n",
    "        scores_deque.append(episode_score)\n",
    "        scores.append(episode_score)\n",
    "        over100_score = np.mean(scores_deque)\n",
    "\n",
    "        print('\\rEpisode {0:4} in {1:5.2f}s.\\tSteps: {6:4}\\tScore: {2:6.3f}\\tAverage Score: {3:6.3f}\\tLrA: {4:.1e}\\tLrC: {5:.1e}\\tStat p1: {7}\\tStat p2: {8}'.format( i_episode, \n",
    "                                                                                                       time.time()-start_time, \n",
    "                                                                                                       episode_score, \n",
    "                                                                                                       over100_score, \n",
    "                                                                                                       agent_1.actor_optimizer.param_groups[0]['lr'],\n",
    "                                                                                                       agent_1.critic_optimizer.param_groups[0]['lr'],\n",
    "                                                                                                       steps,\n",
    "                                                                                                       agent_1.memory.stats(),\n",
    "                                                                                                       agent_2.memory.stats()\n",
    "                                                                                                       ), end=\"\")\n",
    "        if i_episode % 1000 == 0 :\n",
    "            agent_1.save(0, i_episode)\n",
    "            agent_2.save(1, i_episode)\n",
    "\n",
    "        if int(over100_score) > int(max_score) :\n",
    "            max_score = over100_score\n",
    "            agent_1.save(0, int(max_score))\n",
    "            agent_2.save(1, int(max_score))\n",
    "        \n",
    "        if over100_score > 0.5 and not solved:\n",
    "            solved = True\n",
    "            print('\\rProblem solved in {} episodes, score = {}'.format(i_episode, over100_score))\n",
    "            agent_1.save(0, int(max_score))\n",
    "            agent_2.save(1, int(max_score))\n",
    "            #break\n",
    "\n",
    "        if i_episode % 200 == 0 :\n",
    "            print('\\rEpisode {0:4} in {1:5.2f}s.\\tScore: {2:6.3f}\\tAverage Score: {3:6.3f}\\tLrA: {4:.1e}\\tLrC: {5:.1e}'.format( i_episode, \n",
    "                                                                                                       time.time()-start_time, \n",
    "                                                                                                       episode_score, \n",
    "                                                                                                       over100_score, \n",
    "                                                                                                       agent_1.actor_optimizer.param_groups[0]['lr'],\n",
    "                                                                                                       agent_1.critic_optimizer.param_groups[0]['lr'] ))\n",
    "\n",
    "    agent_1.save(0, 'max')\n",
    "    agent_2.save(1, 'max')\n",
    "    return scores"
   ]
  },
  {
   "cell_type": "code",
   "execution_count": 11,
   "metadata": {},
   "outputs": [
    {
     "output_type": "stream",
     "name": "stdout",
     "text": [
      "Demo Mode\n",
      "Score (max over agents) from episode 0: 0.4000000059604645\n",
      "Score (max over agents) from episode 1: 1.5000000223517418\n",
      "Score (max over agents) from episode 2: 2.3000000342726707\n"
     ]
    }
   ],
   "source": [
    "if demo :\n",
    "    print(\"Demo Mode\")\n",
    "    # Load model weigth from trained agents\n",
    "    agent.load(5000)\n",
    "\n",
    "    for i in range(12):\n",
    "\n",
    "        env_info = env.reset(train_mode=False)[brain_name]     # reset the environment    \n",
    "        states = env_info.vector_observations                  # get the current state (for each agent)\n",
    "        scores = np.zeros(num_agents)                          # initialize the score (for each agent)\n",
    "        while True:\n",
    "            #actions = np.random.randn(num_agents, action_size) # select an action (for each agent)\n",
    "            #actions = np.clip(actions, -1, 1)                  # all actions between -1 and 1\n",
    "            actions = agent.act(states, False)\n",
    "            #_info(actions, block=True)\n",
    "            env_info = env.step(actions)[brain_name]           # send all actions to tne environment\n",
    "            next_states = env_info.vector_observations         # get next state (for each agent)\n",
    "            rewards = env_info.rewards                         # get reward (for each agent)\n",
    "            dones = env_info.local_done                        # see if episode finished\n",
    "            scores += env_info.rewards                         # update the score (for each agent)\n",
    "            states = next_states                               # roll over states to next time step\n",
    "            if np.any(dones):                                  # exit loop if episode finished\n",
    "                break\n",
    "        print('Score (max over agents) from episode {}: {}'.format(i, np.max(scores)))"
   ]
  },
  {
   "cell_type": "code",
   "execution_count": 12,
   "metadata": {
    "tags": []
   },
   "outputs": [],
   "source": [
    "if not demo :\n",
    "\n",
    "    print(\"Training Mode\")\n",
    "\n",
    "    if (hyperparameters['algo']['algo'] == 'double_ddpg'):\n",
    "        scores = double_ddpg(**hyperparameters['algo'])\n",
    "    else:\n",
    "        scores = maddpg(**hyperparameters['algo'])\n",
    "    \n",
    "\n",
    "    fig = plt.figure()\n",
    "    ax = fig.add_subplot(111)\n",
    "    plt.plot(np.arange(1, len(scores)+1), scores)\n",
    "    plt.ylabel('Score')\n",
    "    plt.xlabel('Episode #')\n",
    "    plt.show()"
   ]
  },
  {
   "cell_type": "code",
   "execution_count": null,
   "metadata": {},
   "outputs": [],
   "source": []
  },
  {
   "cell_type": "markdown",
   "metadata": {},
   "source": [
    "When finished, you can close the environment."
   ]
  },
  {
   "cell_type": "code",
   "execution_count": 13,
   "metadata": {},
   "outputs": [],
   "source": [
    "env.close()"
   ]
  }
 ],
 "metadata": {
  "kernelspec": {
   "name": "python3",
   "display_name": "Python 3.8.10 64-bit ('venv': venv)"
  },
  "language_info": {
   "codemirror_mode": {
    "name": "ipython",
    "version": 3
   },
   "file_extension": ".py",
   "mimetype": "text/x-python",
   "name": "python",
   "nbconvert_exporter": "python",
   "pygments_lexer": "ipython3",
   "version": "3.8.10"
  },
  "metadata": {
   "interpreter": {
    "hash": "dcb70fd2e77d742d9a17523666ba3db1ae777a70bc3dd8b7b4de7bb28c22211f"
   }
  },
  "interpreter": {
   "hash": "dcb70fd2e77d742d9a17523666ba3db1ae777a70bc3dd8b7b4de7bb28c22211f"
  }
 },
 "nbformat": 4,
 "nbformat_minor": 2
}