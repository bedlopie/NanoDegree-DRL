{
 "cells": [
  {
   "cell_type": "markdown",
   "metadata": {},
   "source": [
    "# Continuous Control\n",
    "\n",
    "---\n",
    "\n",
    "In this notebook, you will learn how to use the Unity ML-Agents environment for the second project of the [Deep Reinforcement Learning Nanodegree](https://www.udacity.com/course/deep-reinforcement-learning-nanodegree--nd893) program.\n",
    "\n",
    "### 1. Start the Environment\n",
    "\n",
    "We begin by importing the necessary packages.  If the code cell below returns an error, please revisit the project instructions to double-check that you have installed [Unity ML-Agents](https://github.com/Unity-Technologies/ml-agents/blob/master/docs/Installation.md) and [NumPy](http://www.numpy.org/)."
   ]
  },
  {
   "cell_type": "code",
   "execution_count": 1,
   "metadata": {},
   "outputs": [],
   "source": [
    "from unityagents import UnityEnvironment\n",
    "import numpy as np"
   ]
  },
  {
   "cell_type": "markdown",
   "metadata": {},
   "source": [
    "Next, we will start the environment!  **_Before running the code cell below_**, change the `file_name` parameter to match the location of the Unity environment that you downloaded.\n",
    "\n",
    "- **Mac**: `\"path/to/Reacher.app\"`\n",
    "- **Windows** (x86): `\"path/to/Reacher_Windows_x86/Reacher.exe\"`\n",
    "- **Windows** (x86_64): `\"path/to/Reacher_Windows_x86_64/Reacher.exe\"`\n",
    "- **Linux** (x86): `\"path/to/Reacher_Linux/Reacher.x86\"`\n",
    "- **Linux** (x86_64): `\"path/to/Reacher_Linux/Reacher.x86_64\"`\n",
    "- **Linux** (x86, headless): `\"path/to/Reacher_Linux_NoVis/Reacher.x86\"`\n",
    "- **Linux** (x86_64, headless): `\"path/to/Reacher_Linux_NoVis/Reacher.x86_64\"`\n",
    "\n",
    "For instance, if you are using a Mac, then you downloaded `Reacher.app`.  If this file is in the same folder as the notebook, then the line below should appear as follows:\n",
    "```\n",
    "env = UnityEnvironment(file_name=\"Reacher.app\")\n",
    "```"
   ]
  },
  {
   "cell_type": "code",
   "execution_count": 2,
   "metadata": {},
   "outputs": [
    {
     "output_type": "stream",
     "name": "stderr",
     "text": [
      "INFO:unityagents:\n'Academy' started successfully!\nUnity Academy name: Academy\n        Number of Brains: 1\n        Number of External Brains : 1\n        Lesson number : 0\n        Reset Parameters :\n\t\t\nUnity brain name: CrawlerBrain\n        Number of Visual Observations (per agent): 0\n        Vector Observation space type: continuous\n        Vector Observation space size (per agent): 129\n        Number of stacked Vector Observation: 1\n        Vector Action space type: continuous\n        Vector Action space size (per agent): 20\n        Vector Action descriptions: , , , , , , , , , , , , , , , , , , , \n"
     ]
    }
   ],
   "source": [
    "env = UnityEnvironment(file_name=\"../UnityEnvironment/Crawler_Windows_x86_64/Crawler.exe\")\n",
    "\n",
    "demo = True"
   ]
  },
  {
   "cell_type": "markdown",
   "metadata": {},
   "source": [
    "Environments contain **_brains_** which are responsible for deciding the actions of their associated agents. Here we check for the first brain available, and set it as the default brain we will be controlling from Python."
   ]
  },
  {
   "cell_type": "code",
   "execution_count": 3,
   "metadata": {},
   "outputs": [],
   "source": [
    "# get the default brain\n",
    "brain_name = env.brain_names[0]\n",
    "brain = env.brains[brain_name]"
   ]
  },
  {
   "cell_type": "markdown",
   "metadata": {},
   "source": [
    "### 2. Examine the State and Action Spaces\n",
    "\n",
    "In this environment, a double-jointed arm can move to target locations. A reward of `+0.1` is provided for each step that the agent's hand is in the goal location. Thus, the goal of your agent is to maintain its position at the target location for as many time steps as possible.\n",
    "\n",
    "The observation space consists of `33` variables corresponding to position, rotation, velocity, and angular velocities of the arm.  Each action is a vector with four numbers, corresponding to torque applicable to two joints.  Every entry in the action vector must be a number between `-1` and `1`.\n",
    "\n",
    "Run the code cell below to print some information about the environment."
   ]
  },
  {
   "cell_type": "code",
   "execution_count": 4,
   "metadata": {},
   "outputs": [
    {
     "output_type": "stream",
     "name": "stdout",
     "text": [
      "Number of agents: 12\nSize of each action: 20\nThere are 12 agents. Each observes a state with length: 129\nThe state for the first agent looks like: [ 0.00000000e+00  0.00000000e+00  0.00000000e+00  2.25000000e+00\n  1.00000000e+00  0.00000000e+00  1.78813934e-07  0.00000000e+00\n  1.00000000e+00  0.00000000e+00  0.00000000e+00  0.00000000e+00\n  0.00000000e+00  0.00000000e+00  0.00000000e+00  0.00000000e+00\n  0.00000000e+00  0.00000000e+00  0.00000000e+00  0.00000000e+00\n  0.00000000e+00  0.00000000e+00  0.00000000e+00  0.00000000e+00\n  6.06093168e-01 -1.42857209e-01 -6.06078804e-01  0.00000000e+00\n  0.00000000e+00  0.00000000e+00  0.00000000e+00  0.00000000e+00\n  0.00000000e+00  0.00000000e+00  0.00000000e+00  0.00000000e+00\n  0.00000000e+00  0.00000000e+00  1.33339906e+00 -1.42857209e-01\n -1.33341408e+00  0.00000000e+00  0.00000000e+00  0.00000000e+00\n  0.00000000e+00  0.00000000e+00  0.00000000e+00  0.00000000e+00\n  0.00000000e+00  0.00000000e+00  0.00000000e+00  0.00000000e+00\n -6.06093347e-01 -1.42857209e-01 -6.06078625e-01  0.00000000e+00\n  0.00000000e+00  0.00000000e+00  0.00000000e+00  0.00000000e+00\n  0.00000000e+00  0.00000000e+00  0.00000000e+00  0.00000000e+00\n  0.00000000e+00  0.00000000e+00 -1.33339953e+00 -1.42857209e-01\n -1.33341372e+00  0.00000000e+00  0.00000000e+00  0.00000000e+00\n  0.00000000e+00  0.00000000e+00  0.00000000e+00  0.00000000e+00\n  0.00000000e+00  0.00000000e+00  0.00000000e+00  0.00000000e+00\n -6.06093168e-01 -1.42857209e-01  6.06078804e-01  0.00000000e+00\n  0.00000000e+00  0.00000000e+00  0.00000000e+00  0.00000000e+00\n  0.00000000e+00  0.00000000e+00  0.00000000e+00  0.00000000e+00\n  0.00000000e+00  0.00000000e+00 -1.33339906e+00 -1.42857209e-01\n  1.33341408e+00  0.00000000e+00  0.00000000e+00  0.00000000e+00\n  0.00000000e+00  0.00000000e+00  0.00000000e+00  0.00000000e+00\n  0.00000000e+00  0.00000000e+00  0.00000000e+00  0.00000000e+00\n  6.06093347e-01 -1.42857209e-01  6.06078625e-01  0.00000000e+00\n  0.00000000e+00  0.00000000e+00  0.00000000e+00  0.00000000e+00\n  0.00000000e+00  0.00000000e+00  0.00000000e+00  0.00000000e+00\n  0.00000000e+00  0.00000000e+00  1.33339953e+00 -1.42857209e-01\n  1.33341372e+00  0.00000000e+00  0.00000000e+00  0.00000000e+00\n  0.00000000e+00]\n"
     ]
    }
   ],
   "source": [
    "# reset the environment\n",
    "env_info = env.reset(train_mode=True)[brain_name]\n",
    "\n",
    "# number of agents\n",
    "num_agents = len(env_info.agents)\n",
    "print('Number of agents:', num_agents)\n",
    "\n",
    "# size of each action\n",
    "action_size = brain.vector_action_space_size\n",
    "print('Size of each action:', action_size)\n",
    "\n",
    "# examine the state space \n",
    "states = env_info.vector_observations\n",
    "state_size = states.shape[1]\n",
    "print('There are {} agents. Each observes a state with length: {}'.format(states.shape[0], state_size))\n",
    "print('The state for the first agent looks like:', states[0])"
   ]
  },
  {
   "cell_type": "markdown",
   "metadata": {},
   "source": [
    "### 3. Take Random Actions in the Environment\n",
    "\n",
    "In the next code cell, you will learn how to use the Python API to control the agent and receive feedback from the environment.\n",
    "\n",
    "Once this cell is executed, you will watch the agent's performance, if it selects an action at random with each time step.  A window should pop up that allows you to observe the agent, as it moves through the environment.  \n",
    "\n",
    "Of course, as part of the project, you'll have to change the code so that the agent is able to use its experience to gradually choose better actions when interacting with the environment!"
   ]
  },
  {
   "cell_type": "code",
   "execution_count": 5,
   "metadata": {},
   "outputs": [
    {
     "output_type": "stream",
     "name": "stdout",
     "text": [
      "Total score (averaged over agents) this episode: 0.3970725628702591\nSteps =  8\n"
     ]
    }
   ],
   "source": [
    "if demo :\n",
    "    env_info = env.reset(train_mode=False)[brain_name]     # reset the environment    \n",
    "    states = env_info.vector_observations                  # get the current state (for each agent)\n",
    "    scores = np.zeros(num_agents)                          # initialize the score (for each agent)\n",
    "    steps = 0\n",
    "    while steps < 200:\n",
    "        actions = np.random.randn(num_agents, action_size) # select an action (for each agent)\n",
    "        actions = np.clip(actions, -1, 1)                  # all actions between -1 and 1\n",
    "        env_info = env.step(actions)[brain_name]           # send all actions to tne environment\n",
    "        next_states = env_info.vector_observations         # get next state (for each agent)\n",
    "        rewards = env_info.rewards                         # get reward (for each agent)\n",
    "        dones = env_info.local_done                        # see if episode finished\n",
    "        scores += env_info.rewards                         # update the score (for each agent)\n",
    "        states = next_states                               # roll over states to next time step\n",
    "        steps += 1\n",
    "        if np.any(dones):                                  # exit loop if episode finished\n",
    "            break\n",
    "    print('Total score (averaged over agents) this episode: {}'.format(np.mean(scores)))\n",
    "    print('Steps = ', steps)"
   ]
  },
  {
   "cell_type": "markdown",
   "metadata": {},
   "source": [
    "### 4. It's Your Turn!\n",
    "\n",
    "Now it's your turn to train your own agent to solve the environment!  When training the environment, set `train_mode=True`, so that the line for resetting the environment looks like the following:\n",
    "```python\n",
    "env_info = env.reset(train_mode=True)[brain_name]\n",
    "```"
   ]
  },
  {
   "cell_type": "code",
   "execution_count": 6,
   "metadata": {},
   "outputs": [],
   "source": [
    "import time\n",
    "import torch\n",
    "import numpy as np\n",
    "from collections import deque\n",
    "import matplotlib.pyplot as plt\n",
    "%matplotlib inline"
   ]
  },
  {
   "cell_type": "code",
   "execution_count": 7,
   "metadata": {},
   "outputs": [
    {
     "output_type": "stream",
     "name": "stdout",
     "text": [
      "Running on GPU\n"
     ]
    }
   ],
   "source": [
    "from ddpg_agent import Agent\n",
    "\n",
    "hyperparameters = {\n",
    "        'ddpg' :    {   'n_episodes':                           6000, \n",
    "                        'max_t':                                2000,\n",
    "                        'num_agents':                           12,\n",
    "                        'add_noise':                            True\n",
    "                    },\n",
    "        'agent' :   {   'state_size':                           129, \n",
    "                        'action_size':                          20, \n",
    "                        'random_seed':                          1,\n",
    "                        'GPU':                                  True,\n",
    "                        'LEARN_EVERY':                          100,             # How many steps between learning\n",
    "                        'LEARN_REPEAT':                         100,             # Number of time we sample the buffer\n",
    "                        'BUFFER_SIZE':                          int(1e6),        # replay buffer size\n",
    "                        'BATCH_SIZE':                           256,             # minibatch size\n",
    "                        'GAMMA':                                0.99,            # discount factor\n",
    "                        'TAU':                                  1e-3,            # for soft update of target parameters\n",
    "                        'Actor_network':                        [512, 256, 128],      # Hidden layer in the fully connected Actor network\n",
    "                        'LR_ACTOR':                             1e-4,            # learning rate of the actor \n",
    "                        'Critic_network':                       [512, 256, 128],      # Hidden layer in the fully connected Critic network\n",
    "                        'LR_CRITIC':                            1e-4,            # learning rate of the critic\n",
    "                        'WEIGHT_DECAY':                         0                # L2 weight decay\n",
    "                    },\n",
    "        }\n",
    "\n",
    "agent = Agent(**hyperparameters['agent'])"
   ]
  },
  {
   "cell_type": "code",
   "execution_count": 8,
   "metadata": {},
   "outputs": [],
   "source": [
    "def ddpg(n_episodes=1000, max_t=1001, num_agents=num_agents, add_noise=True):\n",
    "    scores_deque = deque(maxlen=100)\n",
    "    scores = []\n",
    "    #max_score = -np.Inf\n",
    "    max_score = 100.0\n",
    "    solved = False\n",
    "\n",
    "    for i_episode in range(1, n_episodes+1):\n",
    "        \n",
    "        start_time = time.time()\n",
    "        steps = 0\n",
    "        \n",
    "        states = env.reset(train_mode=True)[brain_name].vector_observations\n",
    "        agent.reset()\n",
    "        score = np.zeros(num_agents)\n",
    "        for t in range(max_t):\n",
    "\n",
    "            actions = agent.act(states, add_noise)             # return actions for each agent according to their states\n",
    "\n",
    "            env_info = env.step(actions)[brain_name]           # send all actions to tne environment\n",
    "            next_states = env_info.vector_observations         # get next state (for each agent)\n",
    "            rewards = env_info.rewards                         # get reward (for each agent)\n",
    "            dones = env_info.local_done                        # see if episode finished\n",
    "\n",
    "            agent.step(states, actions, rewards, next_states, dones)\n",
    "            \n",
    "            score += rewards                                  # update the score (for each agent)\n",
    "            states = next_states                               # roll over states to next time step\n",
    "\n",
    "            steps += 1\n",
    "\n",
    "            if np.any(dones):\n",
    "                break \n",
    "\n",
    "        episode_score = np.mean(score)\n",
    "        scores_deque.append(episode_score)\n",
    "        scores.append(episode_score)\n",
    "        over100_score = np.mean(scores_deque)\n",
    "\n",
    "        print('\\rEpisode {0:4} in {6:4} steps and {1:5.2f}s.\\tScore: {2:5.2f}\\tAverage Score: {3:5.2f}\\tLrA: {4:.1e}\\tLrC: {5:.1e}'.format( i_episode, \n",
    "                                                                                                       time.time()-start_time, \n",
    "                                                                                                       episode_score, \n",
    "                                                                                                       over100_score, \n",
    "                                                                                                       agent.actor_optimizer.param_groups[0]['lr'],\n",
    "                                                                                                       agent.critic_optimizer.param_groups[0]['lr'],\n",
    "                                                                                                       steps), end=\"\")\n",
    "\n",
    "        try:\n",
    "            if (over100_score//2) > (max_score//2) :\n",
    "                max_score = over100_score\n",
    "                torch.save(agent.actor_local.state_dict(), 'checkpoint_c_actor_{}.pth'.format(int(max_score)))\n",
    "                torch.save(agent.critic_local.state_dict(), 'checkpoint_c_critic_{}.pth'.format(int(max_score)))\n",
    "        except:\n",
    "            pass\n",
    "\n",
    "\n",
    "        if over100_score > 30.0 and not solved:\n",
    "            solved = True\n",
    "            print('\\rProblem solved in {} episodes, score = {}'.format(i_episode, over100_score))\n",
    "            torch.save(agent.actor_local.state_dict(), 'checkpoint_c_actor_solved.pth'.format(int(max_score)))\n",
    "            torch.save(agent.critic_local.state_dict(), 'checkpoint_c_critic_solved.pth'.format(int(max_score)))\n",
    "            #break\n",
    "\n",
    "        if i_episode % 100 == 0 :\n",
    "            print('\\rEpisode {0:4} in {6:4} steps and {1:5.2f}s.\\tScore: {2:5.2f}\\tAverage Score: {3:5.2f}\\tLrA: {4:.1e}\\tLrC: {5:.1e}'.format( i_episode, \n",
    "                                                                                                       time.time()-start_time, \n",
    "                                                                                                       episode_score, \n",
    "                                                                                                       over100_score, \n",
    "                                                                                                       agent.actor_optimizer.param_groups[0]['lr'],\n",
    "                                                                                                       agent.critic_optimizer.param_groups[0]['lr'],\n",
    "                                                                                                       steps))\n",
    "\n",
    "    torch.save(agent.actor_local.state_dict(), 'checkpoint_c_actor_max.pth')\n",
    "    torch.save(agent.critic_local.state_dict(), 'checkpoint_c_critic_max.pth')\n",
    "    return scores"
   ]
  },
  {
   "cell_type": "code",
   "execution_count": 9,
   "metadata": {},
   "outputs": [
    {
     "output_type": "stream",
     "name": "stdout",
     "text": [
      "Demo Mode\n",
      "In 337 steps\n",
      "Total score (averaged over agents) this episode: 926.3553914858882\n"
     ]
    }
   ],
   "source": [
    "if demo :\n",
    "    print(\"Demo Mode\")\n",
    "    # Load model weigth from trained agents\n",
    "    #agent.actor_local.load_state_dict(torch.load('checkpoint_c_actor_max.pth'))\n",
    "    #agent.critic_local.load_state_dict(torch.load('checkpoint_c_critic_max.pth'))\n",
    "    agent.actor_local.load_state_dict(torch.load('checkpoint_c_actor_1138.pth'))\n",
    "    agent.critic_local.load_state_dict(torch.load('checkpoint_c_critic_1138.pth'))\n",
    "    \n",
    "    env_info = env.reset(train_mode=False)[brain_name]     # reset the environment    \n",
    "    states = env_info.vector_observations                  # get the current state (for each agent)\n",
    "    scores = np.zeros(num_agents)                          # initialize the score (for each agent)\n",
    "    steps = 0\n",
    "    while True:\n",
    "        actions = agent.act(states, add_noise=False)       # select an action (for each agent)\n",
    "        env_info = env.step(actions)[brain_name]           # send all actions to tne environment\n",
    "        next_states = env_info.vector_observations         # get next state (for each agent)\n",
    "        rewards = env_info.rewards                         # get reward (for each agent)\n",
    "        dones = env_info.local_done                        # see if episode finished\n",
    "        scores += env_info.rewards                         # update the score (for each agent)\n",
    "        states = next_states                               # roll over states to next time step\n",
    "        steps += 1\n",
    "        if np.any(dones):                                  # exit loop if episode finished\n",
    "            break\n",
    "    print(\"In {} steps\".format(steps))    \n",
    "    print('Total score (averaged over agents) this episode: {}'.format(np.mean(scores)))\n"
   ]
  },
  {
   "cell_type": "code",
   "execution_count": 10,
   "metadata": {},
   "outputs": [],
   "source": [
    "if not demo :\n",
    "\n",
    "    print(\"Training Mode\")\n",
    "    scores = ddpg(**hyperparameters['ddpg'])\n",
    "\n",
    "    fig = plt.figure()\n",
    "    ax = fig.add_subplot(111)\n",
    "    plt.plot(np.arange(1, len(scores)+1), scores)\n",
    "    plt.ylabel('Score')\n",
    "    plt.xlabel('Episode #')\n",
    "    plt.show()\n"
   ]
  },
  {
   "cell_type": "markdown",
   "metadata": {},
   "source": [
    "When finished, you can close the environment."
   ]
  },
  {
   "cell_type": "code",
   "execution_count": 11,
   "metadata": {},
   "outputs": [],
   "source": [
    "env.close()"
   ]
  },
  {
   "cell_type": "code",
   "execution_count": null,
   "metadata": {},
   "outputs": [],
   "source": []
  }
 ],
 "metadata": {
  "kernelspec": {
   "name": "pythonjvsc74a57bd0dcb70fd2e77d742d9a17523666ba3db1ae777a70bc3dd8b7b4de7bb28c22211f",
   "display_name": "Python 3.8.10 64-bit ('venv': venv)"
  },
  "language_info": {
   "codemirror_mode": {
    "name": "ipython",
    "version": 3
   },
   "file_extension": ".py",
   "mimetype": "text/x-python",
   "name": "python",
   "nbconvert_exporter": "python",
   "pygments_lexer": "ipython3",
   "version": "3.8.7"
  },
  "metadata": {
   "interpreter": {
    "hash": "dcb70fd2e77d742d9a17523666ba3db1ae777a70bc3dd8b7b4de7bb28c22211f"
   }
  }
 },
 "nbformat": 4,
 "nbformat_minor": 2
}